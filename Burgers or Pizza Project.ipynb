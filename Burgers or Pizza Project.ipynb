{
 "cells": [
  {
   "cell_type": "markdown",
   "metadata": {},
   "source": [
    "# Burgers or Pizza\n",
    "\n",
    "Using the dataset (https://raw.githubusercontent.com/cmparlettpelleriti/CPSC392ParlettPelleriti/master/Data/burgersOrPizza.csv)  "
   ]
  },
  {
   "cell_type": "code",
   "execution_count": 247,
   "metadata": {},
   "outputs": [],
   "source": [
    "#load libraries\n",
    "import warnings\n",
    "warnings.filterwarnings('ignore')\n",
    "import pandas as pd\n",
    "import numpy as np\n",
    "import math as math\n",
    "from plotnine import *\n",
    "\n",
    "%matplotlib inline\n",
    "\n",
    "\n",
    "from sklearn.linear_model import LogisticRegression\n",
    "#Z-score variables\n",
    "from sklearn.preprocessing import StandardScaler \n",
    "from sklearn.metrics import accuracy_score, confusion_matrix, plot_confusion_matrix\n",
    "from sklearn.metrics import r2_score, mean_squared_error\n",
    "# simple TT split cv\n",
    "from sklearn.model_selection import train_test_split \n",
    "#k-fold cv\n",
    "from sklearn.model_selection import KFold \n",
    "from sklearn.tree import DecisionTreeClassifier # Decision Tree\n",
    "from sklearn.metrics import accuracy_score, confusion_matrix\n",
    "from sklearn.metrics import plot_confusion_matrix\n",
    "from sklearn.model_selection import LeaveOneOut\n",
    "\n",
    "from sklearn.mixture import GaussianMixture # EM/GMM\n",
    "from sklearn.cluster import AgglomerativeClustering # hierarchical agglomerative clustering\n",
    "import scipy.cluster.hierarchy as sch\n",
    "from matplotlib import pyplot as plt\n",
    "from sklearn.metrics import silhouette_score\n",
    "from sklearn.model_selection import GridSearchCV"
   ]
  },
  {
   "cell_type": "code",
   "execution_count": 248,
   "metadata": {},
   "outputs": [],
   "source": [
    "#1\n",
    "bp = pd.read_csv(\"https://raw.githubusercontent.com/cmparlettpelleriti/CPSC392ParlettPelleriti/master/Data/burgersOrPizza.csv\")"
   ]
  },
  {
   "cell_type": "code",
   "execution_count": 249,
   "metadata": {},
   "outputs": [],
   "source": [
    "#Removed missing values that were less than 30% of the data\n",
    "bp = bp.dropna(subset=['Sugar_100g', 'Trans_Fat_100g', 'Dietary_Fiber_100g'])"
   ]
  },
  {
   "cell_type": "code",
   "execution_count": 250,
   "metadata": {},
   "outputs": [],
   "source": [
    "# MODEL 1: Logistic regression \n",
    "np.random.seed(100)\n",
    "#Predictors \n",
    "predictors = [\"Calories\", \"Total_Fat_100g\", \"Saturated_Fat_100g\", \"Cholesterol_100g\", \"Sodium_100g\", \"Carbohydrates_100g\", \"Protein_100g\", 'Sugar_100g', 'Trans_Fat_100g', 'Dietary_Fiber_100g']\n",
    "X = bp[predictors]\n",
    "Y = bp[\"Food_Category\"]\n",
    "# Leave One OUT\n",
    "loo = LeaveOneOut()\n",
    "\n",
    "#Logistic Regression model\n",
    "logit =LogisticRegression()\n",
    "\n",
    "# empty list to store accuracy, predicted outcome, true values \n",
    "\n",
    "acc = []\n",
    "predicted_Outcome = []\n",
    "true_value = []\n",
    "\n",
    "#Logistic Regression model\n",
    "logit =LogisticRegression()\n",
    "\n",
    "# empty list to store accuracy, predicted outcome, true values \n",
    "acc = []\n",
    "\n",
    "predicted_Outcome = []\n",
    "true_value = []\n",
    "for train, test in loo.split(X):\n",
    "    # Get train/test for this fold \n",
    "    X_train = X.iloc[train]\n",
    "    X_test = X.iloc[test]\n",
    "    Y_train = Y.iloc[train]\n",
    "    Y_test = Y.iloc[test]\n",
    "    \n",
    "    # Fit Zscore only on training data (no data leakage)\n",
    "    zscore = StandardScaler()\n",
    "    zscore.fit(X_train)\n",
    "\n",
    "    #Zscore both train / test\n",
    "    Xz_train = zscore.transform(X_train)\n",
    "    Xz_test = zscore.transform(X_test)\n",
    "\n",
    "    # Fit model\n",
    "    model1 = logit.fit(Xz_train,Y_train)\n",
    "    \n",
    "    #record accuracy\n",
    "    acc.append(accuracy_score(Y_test, model1.predict(Xz_test)))\n",
    "    \n",
    "    #record actual value \n",
    "    true_value.append(Y_test)\n",
    "    #record predictors \n",
    "    predicted_Outcome.append(model1.predict(X_test)[0])\n",
    "    "
   ]
  },
  {
   "cell_type": "code",
   "execution_count": 251,
   "metadata": {},
   "outputs": [
    {
     "name": "stdout",
     "output_type": "stream",
     "text": [
      "0.9641618497109826\n"
     ]
    }
   ],
   "source": [
    "#Calculate the average accuracy of the model\n",
    "print(np.mean(acc))"
   ]
  },
  {
   "cell_type": "code",
   "execution_count": 252,
   "metadata": {},
   "outputs": [],
   "source": [
    "#Choose max_depth using Grid Search\n",
    "\n",
    "# split into training and test\n",
    "X_train, X_test, y_train, y_test = train_test_split(X,Y, test_size = 0.2)\n",
    "\n",
    "# create model\n",
    "tree_hyp = DecisionTreeClassifier()\n",
    "model_hyp = tree.fit(Xz_train,Y_train)\n",
    "# choose potential values of k\n",
    "dep = {\"max_depth\": range(1,30)}\n",
    "\n",
    "# use grid search to find best parameters\n",
    "grid = GridSearchCV(model_hyp,dep, scoring = \"accuracy\", cv = 5)\n",
    "\n",
    "knnmod = grid.fit(X_train, y_train)"
   ]
  },
  {
   "cell_type": "code",
   "execution_count": 253,
   "metadata": {},
   "outputs": [
    {
     "data": {
      "text/plain": [
       "15"
      ]
     },
     "execution_count": 253,
     "metadata": {},
     "output_type": "execute_result"
    }
   ],
   "source": [
    "knnmod.best_estimator_.get_params()[\"max_depth\"]"
   ]
  },
  {
   "cell_type": "code",
   "execution_count": 254,
   "metadata": {},
   "outputs": [],
   "source": [
    "# MODEL 2: Decision Tree\n",
    "# Leave One OUT\n",
    "np.random.seed(100)\n",
    "loo = LeaveOneOut()\n",
    "acc2 = []\n",
    "acc_train = []\n",
    "predicted_Outcome2 = []\n",
    "\n",
    "#Hyper parameter tuning \n",
    "for train, test in loo.split(X):\n",
    "  # Get train/test for this fold \n",
    "    X_train = X.iloc[train]\n",
    "    X_test = X.iloc[test]\n",
    "    Y_train = Y.iloc[train]\n",
    "    Y_test = Y.iloc[test]\n",
    "    \n",
    "    # Fit Zscore only on training data (no data leakage)\n",
    "    zscore = StandardScaler()\n",
    "    zscore.fit(X_train)\n",
    "\n",
    "    #Zscore both train / test\n",
    "    Xz_train = zscore.transform(X_train)\n",
    "    Xz_test = zscore.transform(X_test)\n",
    "    for d in poss_d:\n",
    "        # Fit model\n",
    "        tree = DecisionTreeClassifier(max_depth = 6)\n",
    "        model2 = tree.fit(Xz_train,Y_train)\n",
    "    #record accuracy\n",
    "    acc2.append(accuracy_score(Y_test, model2.predict(Xz_test)))\n",
    "    acc_train.append(accuracy_score(Y_train, model2.predict(Xz_train)))\n",
    "    #record actual value \n",
    "    true_value.append(Y_test)\n",
    "    #record depth\n",
    "    depth.append(tree.get_depth())\n",
    "    #record predictors \n",
    "    predicted_Outcome2.append(model1.predict(Xz_test)[0]) "
   ]
  },
  {
   "cell_type": "code",
   "execution_count": 255,
   "metadata": {},
   "outputs": [
    {
     "name": "stdout",
     "output_type": "stream",
     "text": [
      "0.953757225433526\n"
     ]
    }
   ],
   "source": [
    "print(np.mean(acc2))"
   ]
  },
  {
   "cell_type": "markdown",
   "metadata": {},
   "source": [
    "#### a) explain which 2 algorithms you chose to use and why (including details like hyperparameters like k, max_depth...etc)\n",
    "While some of the possible algorithms included K-nearest neighbors or Naive Bayes Algorithm, I felt a logistic regression and decision tree were the most appropriate algorithms to build these model. I chose not to do K-nearest neighbors because this algorithm assumes that the data points that are close together in the feature space have the same category. I also chose not to do the Naive Bayes Algorithm because it looks at the probability that the data point is in a certain category which would be difficult to do with all of the continuous variables in the dataset. \n",
    "\n",
    "For the decision tree model, I did parameter tuning using the Grid Search method to determine what the best max_depth for model. To ensure that the model isn't overfit on the training data (model does not predict unseen data as well as the data it is built on), I used Grid Search because it tests every possible max_depth value and returns the model that is trained with the best paramter model it could find. The Grid Search returned 6 as the best max_depth which is what I used when creating my model. \n",
    "\n",
    "#### b) explain which variables you chose to include and why (you must use the same predictors for both models)\n",
    "\n",
    "I chose to use the continuous variables \"Calories\", \"Total_Fat_100g\", \"Saturated_Fat_100g\", \"Cholesterol_100g\", \"Sodium_100g\", \"Carbohydrates_100g\", \"Protein_100g\", as my predictors because I didn't see any unusual patterns when looking at each individual predictors relationship to \"Food_Category\" which is what we are trying to predict. I also chose to include the variables \"Sugar_100g\", \"Trans_Fat_100g\", and \"Dietary_Fiber_100g\" after removing the missing values in these categories. I removed these missing values because the number of missing values were under 30% of the dataset and wouldn't heavily impact the amount of data we have to train and test the models. I chose to use the variables with \"_100g\" at the end (represents the amount of that nutrient per 100 grams of the food) instead of the regular \"Total_Fat\" or \"Sugar\" because it standardizes those variables to be measured on the same scale. I chose to leave out the continuous variable \"Potassium_100g\" because it missing values for almost the entire data set. I also chose to leave out \"Item_Description\" and \"Item_Name\" because each row item had a different name and description. \n",
    "#### c) explain whether or not you decided to z-score your variables and why.\n",
    "I chose to z-score my variables because while the variables ending in \"_100g\" are all on the same scale, calories isn't on that scale. Therefore, to make sure all the variables are on the same scale I chose to still z-score my variables because zscoring esentially subtratcs the mean from each data point and takes that new subtracted score and divide it by the standard deviation because standard deviation represents the typical amount that a point varies from the mean. \n",
    "#### d) choose ONE method of model validation, and explain why ( you must use the same method for both models; also, your reason must be based on aspects of the data and/or computational time/efficiency, and not on your lack of familiarity with the different methods).\n",
    "I chose to do Leave-one-out cross-validation because it should provide the most accuracy of how well the models are able to predict if the item is a burger or pizza with the given predictor variables. This method provides the most accuracy because it is using the whole data set and using each data point as the test variable once while the rest of the data points are used to train the model. While LOO can be computationally expensive and take more time to compute, I chose to use LOO as my validaton method because I had a fairly reasonable sized data set and enough time to work on it.\n",
    "#### e) explain how your model performed, and what metric you used to decide that.\n",
    "\n",
    "Both models performed very well. I measured the model performance by looking at the average accuracy score produced with k-fold cross validation which looks at how accurately the model predicts if the item is a burger or piza. The logistic regression model  had an average accuracy score of 96.416% which means it predicted that a product was a burger or pizza correctly 96.416% of the time. The decision tree performed slightly worse with an average accuracy score of 95.375%. \n",
    "#### f) compare the models: did one model do better than the other? Why do you think that was?\n",
    "Based off of the accuracy score, the logistic regression model did slightly better than decision tree model because the logistic regression model had an average accuracy score of 96.416% while the decision tree had an average accuracy score of 95.375%. \n",
    "#### g) use ggplot to build at least 1 graph to help support your answers, and write a caption for this graph."
   ]
  },
  {
   "cell_type": "code",
   "execution_count": 256,
   "metadata": {},
   "outputs": [
    {
     "data": {
      "image/png": "[encoded data removed]",
      "text/plain": [
       "<Figure size 640x480 with 1 Axes>"
      ]
     },
     "metadata": {
      "needs_background": "light"
     },
     "output_type": "display_data"
    },
    {
     "data": {
      "text/plain": [
       "<ggplot: (8784773847969)>"
      ]
     },
     "execution_count": 256,
     "metadata": {},
     "output_type": "execute_result"
    }
   ],
   "source": [
    "acc_df = pd.DataFrame(acc)\n",
    "(ggplot(acc_df, aes(x = \"factor(acc)\", fill = \"factor(acc)\")) \n",
    " + geom_bar() \n",
    " + ggtitle(\" Logistic Regression Model Accuracy\")\n",
    " + labs(x = \"Accuracy\", y = \"Count\")\n",
    " + theme_minimal()\n",
    " + theme(panel_grid_minor_y =element_blank(),\n",
    "        panel_grid_minor_x =element_blank(),\n",
    "        axis_title = element_text(size =15),\n",
    "        strip_text_x = element_text(size =15),\n",
    "        plot_title = element_text(size =18),\n",
    "        legend_title = element_text(size = 15),\n",
    "        legend_text = element_text(size = 12))\n",
    " +scale_fill_manual(values = [\"#cc79a7\", \"#009e73\"],name =\"Outcome\", \n",
    "                    labels = (\"Inaccurate (0)\", \"Accurate (1)\"))\n",
    "+ geom_text(aes(label='stat(count)'),\n",
    "     stat='count',\n",
    "     nudge_y=0.125,\n",
    "     va='bottom'))"
   ]
  },
  {
   "cell_type": "markdown",
   "metadata": {},
   "source": [
    "Caption: This bar chart shows the amount of times the logistic regression model correctly and incorrectly predicted if the item was pizza or a burger, further supporting the accuracy score generated by the accuracy function discussed in part e. The logistic regression model correctly predicted if a item was pizza or a burger 834 out of 865 times and was incorrect 31 out of 865 times. "
   ]
  },
  {
   "cell_type": "code",
   "execution_count": 257,
   "metadata": {},
   "outputs": [
    {
     "data": {
      "image/png": "[encoded data removed]",
      "text/plain": [
       "<Figure size 640x480 with 1 Axes>"
      ]
     },
     "metadata": {
      "needs_background": "light"
     },
     "output_type": "display_data"
    },
    {
     "data": {
      "text/plain": [
       "<ggplot: (8784773453041)>"
      ]
     },
     "execution_count": 257,
     "metadata": {},
     "output_type": "execute_result"
    }
   ],
   "source": [
    "acc2_df = pd.DataFrame(acc2)\n",
    "(ggplot(acc2_df, aes(x = \"factor(acc2)\", fill = \"factor(acc2)\")) \n",
    " + geom_bar() \n",
    " + ggtitle(\"Decision Tree Model Accuracy\")\n",
    " + labs(x = \"Accuracy\", y = \"Count\")\n",
    " + theme_minimal()\n",
    " + theme(panel_grid_minor_y =element_blank(),\n",
    "        panel_grid_minor_x =element_blank(),\n",
    "        axis_title = element_text(size =15),\n",
    "        strip_text_x = element_text(size =15),\n",
    "        plot_title = element_text(size =18),\n",
    "        legend_title = element_text(size = 15),\n",
    "        legend_text = element_text(size = 12))\n",
    " +scale_fill_manual(values = [\"#cc79a7\", \"#009e73\"],name =\"Outcome\", \n",
    "                    labels = (\"Inaccurate (0)\", \"Accurate (1)\"))\n",
    " + geom_text(aes(label='stat(count)'),\n",
    "     stat='count',\n",
    "     nudge_y=0.125,\n",
    "     va='bottom'))"
   ]
  }
 ],
 "metadata": {
  "hide_input": false,
  "kernelspec": {
   "display_name": "Python 3",
   "language": "python",
   "name": "python3"
  },
  "language_info": {
   "codemirror_mode": {
    "name": "ipython",
    "version": 3
   },
   "file_extension": ".py",
   "mimetype": "text/x-python",
   "name": "python",
   "nbconvert_exporter": "python",
   "pygments_lexer": "ipython3",
   "version": "3.7.9"
  },
  "toc": {
   "base_numbering": 1,
   "nav_menu": {},
   "number_sections": true,
   "sideBar": true,
   "skip_h1_title": false,
   "title_cell": "Table of Contents",
   "title_sidebar": "Contents",
   "toc_cell": false,
   "toc_position": {},
   "toc_section_display": true,
   "toc_window_display": false
  }
 },
 "nbformat": 4,
 "nbformat_minor": 4
}
